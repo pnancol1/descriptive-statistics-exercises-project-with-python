{
 "cells": [
  {
   "cell_type": "markdown",
   "id": "ac622319",
   "metadata": {},
   "source": [
    "# Descriptive statistics problems"
   ]
  },
  {
   "cell_type": "markdown",
   "id": "5e0ab0d5",
   "metadata": {},
   "source": [
    "### Exercise 1\n",
    "\n",
    "We will use NumPy to obtain information to describe statistically.\n",
    "\n",
    "- Generate an array of 100 elements following a normal distribution.\n",
    "- Generate an array of 100 elements following a chi-square distribution with 3 degrees of freedom.\n",
    "- Calculate the main metrics and statistical measures that best describe the two vectors."
   ]
  },
  {
   "cell_type": "code",
   "execution_count": 12,
   "id": "34720ab6",
   "metadata": {},
   "outputs": [
    {
     "name": "stdout",
     "output_type": "stream",
     "text": [
      "normalized mean: 0.1445827426025784\n",
      "normalized median: 0.13851407967719948\n",
      "normalized mode: 1.2314005420281284\n",
      "chi mean: 2.82874632331523\n",
      "chi median: 2.2208134818515717\n",
      "Chi mode: 3.0771887187416747\n"
     ]
    }
   ],
   "source": [
    "# TODO\n",
    "import numpy as np\n",
    "import statistics as stats\n",
    "normarray = np.random.normal(size=(100))\n",
    "chiarray = np.random.chisquare(3, 100)\n",
    "\n",
    "nmean = stats.mean(normarray)\n",
    "print(\"normalized mean: \" + str(nmean))\n",
    "nmedian = stats.median(normarray)\n",
    "print(\"normalized median: \" + str(nmedian))\n",
    "nmode = stats.mode(normarray)\n",
    "print(\"normalized mode: \" + str(nmode))\n",
    "\n",
    "\n",
    "cmean = stats.mean(chiarray)\n",
    "print(\"chi mean: \" + str(cmean))\n",
    "cmedian = stats.median(chiarray)\n",
    "print(\"chi median: \" + str(cmedian))\n",
    "cmode = stats.mode(chiarray)\n",
    "print(\"Chi mode: \" + str(cmode))\n",
    "\n",
    "\n",
    "\n",
    "\n"
   ]
  },
  {
   "cell_type": "markdown",
   "id": "46c70c3d",
   "metadata": {},
   "source": [
    "### Exercise 2\n",
    "\n",
    "Write a Python program to calculate the standard deviation of the following data:\n",
    "\n",
    "```py\n",
    "data = [4, 2, 5, 8, 6]\n",
    "```"
   ]
  },
  {
   "cell_type": "code",
   "execution_count": null,
   "id": "d590308e",
   "metadata": {},
   "outputs": [
    {
     "data": {
      "text/plain": [
       "np.float64(2.0)"
      ]
     },
     "execution_count": 21,
     "metadata": {},
     "output_type": "execute_result"
    }
   ],
   "source": [
    "# TODO\n",
    "data = [4, 2, 5, 8, 6]\n",
    "sarray = np.array(data)\n",
    "mean = sarray.mean()\n",
    "temp_total = 0\n",
    "N = len(sarray)\n",
    "for i in sarray:\n",
    "    temp_total += (i - mean)**2\n",
    "total = (temp_total/N)**0.5\n"
   ]
  }
 ],
 "metadata": {
  "kernelspec": {
   "display_name": "Python 3",
   "language": "python",
   "name": "python3"
  },
  "language_info": {
   "codemirror_mode": {
    "name": "ipython",
    "version": 3
   },
   "file_extension": ".py",
   "mimetype": "text/x-python",
   "name": "python",
   "nbconvert_exporter": "python",
   "pygments_lexer": "ipython3",
   "version": "3.11.4"
  }
 },
 "nbformat": 4,
 "nbformat_minor": 5
}
